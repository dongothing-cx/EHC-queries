{
 "cells": [
  {
   "cell_type": "code",
   "execution_count": null,
   "id": "8fd73e7c",
   "metadata": {},
   "outputs": [],
   "source": [
    "# create a virtual environment\n",
    "#!python3 -m venv .venv"
   ]
  },
  {
   "cell_type": "code",
   "execution_count": null,
   "id": "c7d81f04-fb4f-4bdc-8137-5fb545d80233",
   "metadata": {},
   "outputs": [],
   "source": [
    "#start virtual environment\n",
    "!source ./.venv/bin/activate"
   ]
  },
  {
   "cell_type": "code",
   "execution_count": 79,
   "id": "c68a8934-132a-4788-be3b-4d4a641f0821",
   "metadata": {},
   "outputs": [],
   "source": [
    "# install requirements\n",
    "!pip3 install -r requirements.txt -q"
   ]
  },
  {
   "cell_type": "code",
   "execution_count": 27,
   "id": "ffc55ace-e730-4e61-859a-07fb128fe622",
   "metadata": {},
   "outputs": [],
   "source": [
    "import os\n",
    "import json\n",
    "\n",
    "import pandas as pd\n",
    "import numpy as np"
   ]
  },
  {
   "cell_type": "code",
   "execution_count": 33,
   "id": "782e2dc4-509d-4501-ab98-bde3e8f34b57",
   "metadata": {},
   "outputs": [
    {
     "ename": "ModuleNotFoundError",
     "evalue": "No module named 'dotenv'",
     "output_type": "error",
     "traceback": [
      "\u001b[0;31m---------------------------------------------------------------------------\u001b[0m",
      "\u001b[0;31mModuleNotFoundError\u001b[0m                       Traceback (most recent call last)",
      "Cell \u001b[0;32mIn[33], line 1\u001b[0m\n\u001b[0;32m----> 1\u001b[0m \u001b[38;5;28;01mfrom\u001b[39;00m \u001b[38;5;21;01mdotenv\u001b[39;00m \u001b[38;5;28;01mimport\u001b[39;00m load_dotenv\n",
      "\u001b[0;31mModuleNotFoundError\u001b[0m: No module named 'dotenv'"
     ]
    }
   ],
   "source": [
    "# from dotenv import load_dotenv\n",
    "# load_dotenv()\n",
    "\n",
    "# not working in jupyter for some reason"
   ]
  },
  {
   "cell_type": "code",
   "execution_count": 74,
   "id": "9c61b93f-ceb1-4359-9f90-1ff8379cc02d",
   "metadata": {},
   "outputs": [
    {
     "name": "stdout",
     "output_type": "stream",
     "text": [
      "./sample-ehc\n"
     ]
    }
   ],
   "source": [
    "\n",
    "ehc_folder = os.getenv('EHCFOLDER', './sample-ehc')\n",
    "print(ehc_folder)"
   ]
  },
  {
   "cell_type": "code",
   "execution_count": 75,
   "id": "2a1faeed-90a8-4a24-9351-b21aa09d8b97",
   "metadata": {},
   "outputs": [],
   "source": [
    "# load the scan data into a dataframe without the odata context\n",
    "# odata has the URL of the server, but not much else of value\n",
    "with open(ehc_folder+'/scan-data.json', \"r\") as read_file:\n",
    "    scans_dict = json.load(read_file)\n",
    "\n",
    "scans = pd.DataFrame(scans_dict['value'])"
   ]
  },
  {
   "cell_type": "code",
   "execution_count": 76,
   "id": "a8c8de79-2bb9-4cc5-bf5c-0feba20b6467",
   "metadata": {},
   "outputs": [
    {
     "name": "stdout",
     "output_type": "stream",
     "text": [
      "These are columns that should be dates: ['ScanRequestedOn', 'QueuedOn', 'EngineStartedOn', 'EngineFinishedOn', 'ScanCompletedOn']\n"
     ]
    }
   ],
   "source": [
    "# convert date columns to datetime\n",
    "cols = list(scans.columns)\n",
    "date_cols = [x for x in cols if \"On\" in x]\n",
    "print(\"These are columns that should be dates: {}\".format(date_cols))\n",
    "\n",
    "for col in date_cols:\n",
    "    scans[col] = pd.to_datetime(scans[col], format='ISO8601')"
   ]
  },
  {
   "cell_type": "code",
   "execution_count": 77,
   "id": "a2a28c9e-e566-4265-85ca-81a0e917f369",
   "metadata": {},
   "outputs": [
    {
     "name": "stdout",
     "output_type": "stream",
     "text": [
      "high, medium, low, info findings : 419, 1805, 2703, 10651\n"
     ]
    }
   ],
   "source": [
    "# sum of findings by severity\n",
    "print('high, medium, low, info findings : {}, {}, {}, {}'.format(scans.High.sum(), scans.Medium.sum(), scans.Low.sum(), scans.Info.sum()))"
   ]
  },
  {
   "cell_type": "code",
   "execution_count": 78,
   "id": "2b0edaeb-987c-4cfe-a3b1-e4253a0cc66d",
   "metadata": {},
   "outputs": [
    {
     "data": {
      "text/html": [
       "<div>\n",
       "<style scoped>\n",
       "    .dataframe tbody tr th:only-of-type {\n",
       "        vertical-align: middle;\n",
       "    }\n",
       "\n",
       "    .dataframe tbody tr th {\n",
       "        vertical-align: top;\n",
       "    }\n",
       "\n",
       "    .dataframe thead th {\n",
       "        text-align: right;\n",
       "    }\n",
       "</style>\n",
       "<table border=\"1\" class=\"dataframe\">\n",
       "  <thead>\n",
       "    <tr style=\"text-align: right;\">\n",
       "      <th></th>\n",
       "      <th>High</th>\n",
       "      <th>Medium</th>\n",
       "      <th>Low</th>\n",
       "      <th>Info</th>\n",
       "    </tr>\n",
       "    <tr>\n",
       "      <th>PresetName</th>\n",
       "      <th></th>\n",
       "      <th></th>\n",
       "      <th></th>\n",
       "      <th></th>\n",
       "    </tr>\n",
       "  </thead>\n",
       "  <tbody>\n",
       "    <tr>\n",
       "      <th>Android</th>\n",
       "      <td>1</td>\n",
       "      <td>51</td>\n",
       "      <td>72</td>\n",
       "      <td>61</td>\n",
       "    </tr>\n",
       "    <tr>\n",
       "      <th>Checkmarx Default</th>\n",
       "      <td>418</td>\n",
       "      <td>1745</td>\n",
       "      <td>2631</td>\n",
       "      <td>10590</td>\n",
       "    </tr>\n",
       "    <tr>\n",
       "      <th>High and Medium</th>\n",
       "      <td>0</td>\n",
       "      <td>9</td>\n",
       "      <td>0</td>\n",
       "      <td>0</td>\n",
       "    </tr>\n",
       "  </tbody>\n",
       "</table>\n",
       "</div>"
      ],
      "text/plain": [
       "                   High  Medium   Low   Info\n",
       "PresetName                                  \n",
       "Android               1      51    72     61\n",
       "Checkmarx Default   418    1745  2631  10590\n",
       "High and Medium       0       9     0      0"
      ]
     },
     "execution_count": 78,
     "metadata": {},
     "output_type": "execute_result"
    }
   ],
   "source": [
    "# scans.groupby(['PresetName']).sum()\n",
    "findings_columns = ['PresetName','High', 'Medium', 'Low', 'Info']\n",
    "scans[findings_columns].groupby(['PresetName']).sum()"
   ]
  },
  {
   "cell_type": "code",
   "execution_count": null,
   "id": "60a2583e-4e25-4378-8645-2e3f76fe7c64",
   "metadata": {},
   "outputs": [],
   "source": []
  }
 ],
 "metadata": {
  "kernelspec": {
   "display_name": "Python 3 (ipykernel)",
   "language": "python",
   "name": "python3"
  },
  "language_info": {
   "codemirror_mode": {
    "name": "ipython",
    "version": 3
   },
   "file_extension": ".py",
   "mimetype": "text/x-python",
   "name": "python",
   "nbconvert_exporter": "python",
   "pygments_lexer": "ipython3",
   "version": "3.11.5"
  }
 },
 "nbformat": 4,
 "nbformat_minor": 5
}
